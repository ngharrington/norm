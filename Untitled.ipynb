{
 "cells": [
  {
   "cell_type": "code",
   "execution_count": 3,
   "id": "4ea97df3",
   "metadata": {},
   "outputs": [],
   "source": [
    "import soundfile as sf\n",
    "sig, samplerate = sf.read('sample-audio.wav')"
   ]
  },
  {
   "cell_type": "code",
   "execution_count": 12,
   "id": "2c851c51",
   "metadata": {},
   "outputs": [],
   "source": [
    "import matplotlib.pyplot as plt"
   ]
  },
  {
   "cell_type": "code",
   "execution_count": 13,
   "id": "c1b9e015",
   "metadata": {},
   "outputs": [
    {
     "data": {
      "image/png": "[encoded data removed]",
      "text/plain": [
       "<Figure size 432x288 with 1 Axes>"
      ]
     },
     "metadata": {
      "needs_background": "light"
     },
     "output_type": "display_data"
    }
   ],
   "source": [
    "plt.plot(sig);"
   ]
  },
  {
   "cell_type": "code",
   "execution_count": 16,
   "id": "59c9ec45",
   "metadata": {},
   "outputs": [
    {
     "name": "stderr",
     "output_type": "stream",
     "text": [
      "Input #0, wav, from '/tmp/tmp_kbnjhse.wav':   0KB sq=    0B f=0/0   \n",
      "  Duration: 00:07:31.81, bitrate: 1411 kb/s\n",
      "    Stream #0:0: Audio: pcm_s16le ([1][0][0][0] / 0x0001), 44100 Hz, 2 channels, s16, 1411 kb/s\n",
      "Process Process-2:0 fd=   0 aq=  180KB vq=    0KB sq=    0B f=0/0   \n",
      "Traceback (most recent call last):\n",
      "  File \"/usr/lib/python3.9/multiprocessing/process.py\", line 315, in _bootstrap\n",
      "    self.run()\n",
      "  File \"/usr/lib/python3.9/multiprocessing/process.py\", line 108, in run\n",
      "    self._target(*self._args, **self._kwargs)\n",
      "  File \"/tmp/ipykernel_939729/558112656.py\", line 71, in showing_audiotrack\n",
      "    plt.pause(updatePeriodicity-(time.time()-previousTime))\n",
      "  File \"/home/neal/workspace/norm/venv/lib/python3.9/site-packages/matplotlib/pyplot.py\", line 571, in pause\n",
      "    time.sleep(interval)\n",
      "ValueError: sleep length must be non-negative\n",
      "Process Process-1:0 fd=   0 aq=  180KB vq=    0KB sq=    0B f=0/0   \n",
      "Traceback (most recent call last):\n",
      "  File \"/usr/lib/python3.9/multiprocessing/process.py\", line 315, in _bootstrap\n",
      "    self.run()\n",
      "  File \"/usr/lib/python3.9/multiprocessing/process.py\", line 108, in run\n",
      "    self._target(*self._args, **self._kwargs)\n",
      "  File \"/tmp/ipykernel_939729/558112656.py\", line 37, in playing_audio\n",
      "    play(song)\n",
      "  17.26 M-A:  0.000 fd=   0 aq=  180KB vq=    0KB sq=    0B f=0/0   \r"
     ]
    },
    {
     "ename": "KeyboardInterrupt",
     "evalue": "",
     "output_type": "error",
     "traceback": [
      "\u001b[0;31m---------------------------------------------------------------------------\u001b[0m",
      "\u001b[0;31mKeyboardInterrupt\u001b[0m                         Traceback (most recent call last)",
      "Input \u001b[0;32mIn [16]\u001b[0m, in \u001b[0;36m<cell line: 77>\u001b[0;34m()\u001b[0m\n\u001b[1;32m     80\u001b[0m p2 \u001b[38;5;241m=\u001b[39m Process(target\u001b[38;5;241m=\u001b[39mshowing_audiotrack, args\u001b[38;5;241m=\u001b[39m())\n\u001b[1;32m     81\u001b[0m p2\u001b[38;5;241m.\u001b[39mstart()\n\u001b[0;32m---> 82\u001b[0m \u001b[43mp1\u001b[49m\u001b[38;5;241;43m.\u001b[39;49m\u001b[43mjoin\u001b[49m\u001b[43m(\u001b[49m\u001b[43m)\u001b[49m\n\u001b[1;32m     83\u001b[0m p2\u001b[38;5;241m.\u001b[39mjoin()\n",
      "File \u001b[0;32m/usr/lib/python3.9/multiprocessing/process.py:149\u001b[0m, in \u001b[0;36mBaseProcess.join\u001b[0;34m(self, timeout)\u001b[0m\n\u001b[1;32m    147\u001b[0m \u001b[38;5;28;01massert\u001b[39;00m \u001b[38;5;28mself\u001b[39m\u001b[38;5;241m.\u001b[39m_parent_pid \u001b[38;5;241m==\u001b[39m os\u001b[38;5;241m.\u001b[39mgetpid(), \u001b[38;5;124m'\u001b[39m\u001b[38;5;124mcan only join a child process\u001b[39m\u001b[38;5;124m'\u001b[39m\n\u001b[1;32m    148\u001b[0m \u001b[38;5;28;01massert\u001b[39;00m \u001b[38;5;28mself\u001b[39m\u001b[38;5;241m.\u001b[39m_popen \u001b[38;5;129;01mis\u001b[39;00m \u001b[38;5;129;01mnot\u001b[39;00m \u001b[38;5;28;01mNone\u001b[39;00m, \u001b[38;5;124m'\u001b[39m\u001b[38;5;124mcan only join a started process\u001b[39m\u001b[38;5;124m'\u001b[39m\n\u001b[0;32m--> 149\u001b[0m res \u001b[38;5;241m=\u001b[39m \u001b[38;5;28;43mself\u001b[39;49m\u001b[38;5;241;43m.\u001b[39;49m\u001b[43m_popen\u001b[49m\u001b[38;5;241;43m.\u001b[39;49m\u001b[43mwait\u001b[49m\u001b[43m(\u001b[49m\u001b[43mtimeout\u001b[49m\u001b[43m)\u001b[49m\n\u001b[1;32m    150\u001b[0m \u001b[38;5;28;01mif\u001b[39;00m res \u001b[38;5;129;01mis\u001b[39;00m \u001b[38;5;129;01mnot\u001b[39;00m \u001b[38;5;28;01mNone\u001b[39;00m:\n\u001b[1;32m    151\u001b[0m     _children\u001b[38;5;241m.\u001b[39mdiscard(\u001b[38;5;28mself\u001b[39m)\n",
      "File \u001b[0;32m/usr/lib/python3.9/multiprocessing/popen_fork.py:43\u001b[0m, in \u001b[0;36mPopen.wait\u001b[0;34m(self, timeout)\u001b[0m\n\u001b[1;32m     41\u001b[0m             \u001b[38;5;28;01mreturn\u001b[39;00m \u001b[38;5;28;01mNone\u001b[39;00m\n\u001b[1;32m     42\u001b[0m     \u001b[38;5;66;03m# This shouldn't block if wait() returned successfully.\u001b[39;00m\n\u001b[0;32m---> 43\u001b[0m     \u001b[38;5;28;01mreturn\u001b[39;00m \u001b[38;5;28;43mself\u001b[39;49m\u001b[38;5;241;43m.\u001b[39;49m\u001b[43mpoll\u001b[49m\u001b[43m(\u001b[49m\u001b[43mos\u001b[49m\u001b[38;5;241;43m.\u001b[39;49m\u001b[43mWNOHANG\u001b[49m\u001b[43m \u001b[49m\u001b[38;5;28;43;01mif\u001b[39;49;00m\u001b[43m \u001b[49m\u001b[43mtimeout\u001b[49m\u001b[43m \u001b[49m\u001b[38;5;241;43m==\u001b[39;49m\u001b[43m \u001b[49m\u001b[38;5;241;43m0.0\u001b[39;49m\u001b[43m \u001b[49m\u001b[38;5;28;43;01melse\u001b[39;49;00m\u001b[43m \u001b[49m\u001b[38;5;241;43m0\u001b[39;49m\u001b[43m)\u001b[49m\n\u001b[1;32m     44\u001b[0m \u001b[38;5;28;01mreturn\u001b[39;00m \u001b[38;5;28mself\u001b[39m\u001b[38;5;241m.\u001b[39mreturncode\n",
      "File \u001b[0;32m/usr/lib/python3.9/multiprocessing/popen_fork.py:27\u001b[0m, in \u001b[0;36mPopen.poll\u001b[0;34m(self, flag)\u001b[0m\n\u001b[1;32m     25\u001b[0m \u001b[38;5;28;01mif\u001b[39;00m \u001b[38;5;28mself\u001b[39m\u001b[38;5;241m.\u001b[39mreturncode \u001b[38;5;129;01mis\u001b[39;00m \u001b[38;5;28;01mNone\u001b[39;00m:\n\u001b[1;32m     26\u001b[0m     \u001b[38;5;28;01mtry\u001b[39;00m:\n\u001b[0;32m---> 27\u001b[0m         pid, sts \u001b[38;5;241m=\u001b[39m \u001b[43mos\u001b[49m\u001b[38;5;241;43m.\u001b[39;49m\u001b[43mwaitpid\u001b[49m\u001b[43m(\u001b[49m\u001b[38;5;28;43mself\u001b[39;49m\u001b[38;5;241;43m.\u001b[39;49m\u001b[43mpid\u001b[49m\u001b[43m,\u001b[49m\u001b[43m \u001b[49m\u001b[43mflag\u001b[49m\u001b[43m)\u001b[49m\n\u001b[1;32m     28\u001b[0m     \u001b[38;5;28;01mexcept\u001b[39;00m \u001b[38;5;167;01mOSError\u001b[39;00m:\n\u001b[1;32m     29\u001b[0m         \u001b[38;5;66;03m# Child process not yet created. See #1731717\u001b[39;00m\n\u001b[1;32m     30\u001b[0m         \u001b[38;5;66;03m# e.errno == errno.ECHILD == 10\u001b[39;00m\n\u001b[1;32m     31\u001b[0m         \u001b[38;5;28;01mreturn\u001b[39;00m \u001b[38;5;28;01mNone\u001b[39;00m\n",
      "\u001b[0;31mKeyboardInterrupt\u001b[0m: "
     ]
    },
    {
     "name": "stderr",
     "output_type": "stream",
     "text": [
      "  File \"/home/neal/workspace/norm/venv/lib/python3.9/site-packages/pydub/playback.py\", line 71, in play\n",
      "    _play_with_ffplay(audio_segment)\n",
      "  File \"/home/neal/workspace/norm/venv/lib/python3.9/site-packages/pydub/playback.py\", line 16, in _play_with_ffplay\n",
      "    subprocess.call([PLAYER, \"-nodisp\", \"-autoexit\", \"-hide_banner\", f.name])\n",
      "  File \"/usr/lib/python3.9/subprocess.py\", line 351, in call\n",
      "    return p.wait(timeout=timeout)\n",
      "  File \"/usr/lib/python3.9/subprocess.py\", line 1189, in wait\n",
      "    return self._wait(timeout=timeout)\n",
      "  File \"/usr/lib/python3.9/subprocess.py\", line 1917, in _wait\n",
      "    (pid, sts) = self._try_wait(0)\n",
      "  File \"/usr/lib/python3.9/subprocess.py\", line 1875, in _try_wait\n",
      "    (pid, sts) = os.waitpid(self.pid, wait_flags)\n",
      "KeyboardInterrupt\n"
     ]
    }
   ],
   "source": [
    "# IMPORTING PACKAGES\n",
    "\n",
    "import time\n",
    "from multiprocessing import Process\n",
    "\n",
    "import matplotlib.pyplot as plt\n",
    "import numpy as np\n",
    "import soundfile as sf\n",
    "from pydub import AudioSegment\n",
    "from pydub.playback import play\n",
    "\n",
    "# PREPARING THE AUDIO DATA\n",
    "\n",
    "# Audio file, .wav file\n",
    "wavFile = \"sample-audio.wav\"\n",
    "\n",
    "# Retrieve the data from the wav file\n",
    "data, samplerate = sf.read(wavFile)\n",
    "\n",
    "n = len(data)  # the length of the arrays contained in data\n",
    "Fs = samplerate  # the sample rate\n",
    "\n",
    "# Working with stereo audio, there are two channels in the audio data.\n",
    "# Let's retrieve each channel seperately:\n",
    "ch1 = np.array([data[i][0] for i in range(n)])  # channel 1\n",
    "ch2 = np.array([data[i][1] for i in range(n)])  # channel 2\n",
    "\n",
    "# x-axis and y-axis to plot the audio data\n",
    "time_axis = np.linspace(0, n / Fs, n, endpoint=False)\n",
    "sound_axis = ch1\n",
    "\n",
    "# plt.plot(time_axis, sound_axis)\n",
    "# plt.show()\n",
    "\n",
    "def playing_audio():\n",
    "    song = AudioSegment.from_wav(wavFile)\n",
    "    play(song)\n",
    "\n",
    "\n",
    "def showing_audiotrack():\n",
    "    # We use a variable previousTime to store the time when a plot update is made\n",
    "    # and to then compute the time taken to update the plot of the audio data.\n",
    "    previousTime = time.time()\n",
    "\n",
    "    # Turning the interactive mode on\n",
    "    plt.ion()\n",
    "\n",
    "    # Each time we go through a number of samples in the audio data that corresponds to one second of audio,\n",
    "    # we increase spentTime by one (1 second).\n",
    "    spentTime = 0\n",
    "\n",
    "    # Let's the define the update periodicity\n",
    "    updatePeriodicity = 2 # expressed in seconds\n",
    "\n",
    "    # Plotting the audio data and updating the plot\n",
    "    for i in range(n):\n",
    "        # Each time we read one second of audio data, we increase spentTime :\n",
    "        if i // Fs != (i-1) // Fs:\n",
    "            spentTime += 1\n",
    "        # We update the plot every updatePeriodicity seconds\n",
    "        if spentTime == updatePeriodicity:\n",
    "            # Clear the previous plot\n",
    "            plt.clf()\n",
    "            # Plot the audio data\n",
    "            plt.plot(time_axis, sound_axis)\n",
    "            # Plot a red line to keep track of the progression\n",
    "            plt.axvline(x=i / Fs, color='r')\n",
    "            plt.xlabel(\"Time (s)\")\n",
    "            plt.ylabel(\"Audio\")\n",
    "            plt.show()  # shows the plot\n",
    "            plt.pause(updatePeriodicity-(time.time()-previousTime))\n",
    "            # a forced pause to synchronize the audio being played with the audio track being displayed\n",
    "            previousTime = time.time()\n",
    "            spentTime = 0\n",
    "\n",
    "\n",
    "if __name__ == \"__main__\":\n",
    "    p1 = Process(target=playing_audio, args=())\n",
    "    p1.start()\n",
    "    p2 = Process(target=showing_audiotrack, args=())\n",
    "    p2.start()\n",
    "    p1.join()\n",
    "    p2.join()"
   ]
  }
 ],
 "metadata": {
  "kernelspec": {
   "display_name": "Python 3 (ipykernel)",
   "language": "python",
   "name": "python3"
  },
  "language_info": {
   "codemirror_mode": {
    "name": "ipython",
    "version": 3
   },
   "file_extension": ".py",
   "mimetype": "text/x-python",
   "name": "python",
   "nbconvert_exporter": "python",
   "pygments_lexer": "ipython3",
   "version": "3.9.5"
  }
 },
 "nbformat": 4,
 "nbformat_minor": 5
}
